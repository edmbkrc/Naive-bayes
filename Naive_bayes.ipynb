{
  "nbformat": 4,
  "nbformat_minor": 0,
  "metadata": {
    "colab": {
      "provenance": []
    },
    "kernelspec": {
      "name": "python3",
      "display_name": "Python 3"
    },
    "language_info": {
      "name": "python"
    }
  },
  "cells": [
    {
      "cell_type": "code",
      "execution_count": 24,
      "metadata": {
        "id": "XCTz-R3iU365"
      },
      "outputs": [],
      "source": [
        "import pandas as pd \n",
        "import numpy as np\n",
        "from sklearn.naive_bayes import GaussianNB\n",
        "from sklearn.preprocessing import LabelEncoder\n",
        "from sklearn.model_selection import train_test_split\n",
        "from sklearn.metrics import accuracy_score\n",
        "import seaborn as sns\n",
        "import matplotlib.pyplot as plt\n"
      ]
    },
    {
      "cell_type": "code",
      "source": [
        "import csv\n",
        "data = [\n",
        "    [\"hava_durumu\", \"sicaklik\", \"nem\", \"ruzgar\", \"balik_tutma\"],\n",
        "    [\"gunesli\", \"sicak\", \"yuksek\", \"zayif\", \"hayır\"],\n",
        "    [\"gunesli\", \"sicak\", \"yuksek\", \"kuvvetli\", \"hayır\"],\n",
        "    [\"bulutlu\", \"sicak\", \"yuksek\", \"zayif\", \"evet\"],\n",
        "    [\"yagmurlu\", \"ilik\", \"yuksek\", \"zayif\", \"evet\"],\n",
        "    [\"yagmurlu\", \"soguk\", \"normal\", \"zayif\", \"evet\"],\n",
        "    [\"yagmurlu\", \"soguk\", \"normal\", \"kuvvetli\", \"hayır\"],\n",
        "    [\"bulutlu\", \"soguk\", \"normal\", \"kuvvetli\", \"evet\"],\n",
        "    [\"gunesli\", \"ilik\", \"yuksek\", \"zayif\", \"hayır\"],\n",
        "    [\"gunesli\", \"soguk\", \"normal\", \"zayif\", \"evet\"],\n",
        "    [\"yagmurlu\", \"ilik\", \"normal\", \"zayif\", \"evet\"],\n",
        "    [\"gunesli\", \"ilik\", \"normal\", \"kuvvetli\", \"evet\"],\n",
        "    [\"bulutlu\", \"ilik\", \"yuksek\", \"kuvvetli\", \"evet\"],\n",
        "    [\"bulutlu\", \"sicak\", \"normal\", \"zayif\", \"evet\"],\n",
        "    [\"yagmurlu\", \"ilik\", \"yuksek\", \"kuvvetli\", \"hayır\"]\n",
        "]"
      ],
      "metadata": {
        "id": "ykrBgRpaUCkl"
      },
      "execution_count": 2,
      "outputs": []
    },
    {
      "cell_type": "code",
      "source": [
        "with open(\"baliktutma.csv\", \"w\", newline=\"\") as csvfile:\n",
        "  writer = csv.writer(csvfile)\n",
        "  for row in data:\n",
        "    writer.writerow(row)\n",
        "\n",
        "csvfile.close()"
      ],
      "metadata": {
        "id": "Z_RZ7d0ZW65r"
      },
      "execution_count": 3,
      "outputs": []
    },
    {
      "cell_type": "code",
      "source": [
        "balik_tutma = pd.read_csv(\"/content/baliktutma.csv\")"
      ],
      "metadata": {
        "id": "-GezCNU5W-jZ"
      },
      "execution_count": 4,
      "outputs": []
    },
    {
      "cell_type": "code",
      "source": [
        "balik_tutma.head(9)"
      ],
      "metadata": {
        "colab": {
          "base_uri": "https://localhost:8080/",
          "height": 331
        },
        "id": "IRhwB21h6sA_",
        "outputId": "81e53ba7-9411-4f23-ce76-0b1393c02ed8"
      },
      "execution_count": 5,
      "outputs": [
        {
          "output_type": "execute_result",
          "data": {
            "text/plain": [
              "  hava_durumu sicaklik     nem    ruzgar balik_tutma\n",
              "0     gunesli    sicak  yuksek     zayif       hayır\n",
              "1     gunesli    sicak  yuksek  kuvvetli       hayır\n",
              "2     bulutlu    sicak  yuksek     zayif        evet\n",
              "3    yagmurlu     ilik  yuksek     zayif        evet\n",
              "4    yagmurlu    soguk  normal     zayif        evet\n",
              "5    yagmurlu    soguk  normal  kuvvetli       hayır\n",
              "6     bulutlu    soguk  normal  kuvvetli        evet\n",
              "7     gunesli     ilik  yuksek     zayif       hayır\n",
              "8     gunesli    soguk  normal     zayif        evet"
            ],
            "text/html": [
              "\n",
              "  <div id=\"df-81affeb6-cc3b-4021-9bf3-ba34a99f577b\">\n",
              "    <div class=\"colab-df-container\">\n",
              "      <div>\n",
              "<style scoped>\n",
              "    .dataframe tbody tr th:only-of-type {\n",
              "        vertical-align: middle;\n",
              "    }\n",
              "\n",
              "    .dataframe tbody tr th {\n",
              "        vertical-align: top;\n",
              "    }\n",
              "\n",
              "    .dataframe thead th {\n",
              "        text-align: right;\n",
              "    }\n",
              "</style>\n",
              "<table border=\"1\" class=\"dataframe\">\n",
              "  <thead>\n",
              "    <tr style=\"text-align: right;\">\n",
              "      <th></th>\n",
              "      <th>hava_durumu</th>\n",
              "      <th>sicaklik</th>\n",
              "      <th>nem</th>\n",
              "      <th>ruzgar</th>\n",
              "      <th>balik_tutma</th>\n",
              "    </tr>\n",
              "  </thead>\n",
              "  <tbody>\n",
              "    <tr>\n",
              "      <th>0</th>\n",
              "      <td>gunesli</td>\n",
              "      <td>sicak</td>\n",
              "      <td>yuksek</td>\n",
              "      <td>zayif</td>\n",
              "      <td>hayır</td>\n",
              "    </tr>\n",
              "    <tr>\n",
              "      <th>1</th>\n",
              "      <td>gunesli</td>\n",
              "      <td>sicak</td>\n",
              "      <td>yuksek</td>\n",
              "      <td>kuvvetli</td>\n",
              "      <td>hayır</td>\n",
              "    </tr>\n",
              "    <tr>\n",
              "      <th>2</th>\n",
              "      <td>bulutlu</td>\n",
              "      <td>sicak</td>\n",
              "      <td>yuksek</td>\n",
              "      <td>zayif</td>\n",
              "      <td>evet</td>\n",
              "    </tr>\n",
              "    <tr>\n",
              "      <th>3</th>\n",
              "      <td>yagmurlu</td>\n",
              "      <td>ilik</td>\n",
              "      <td>yuksek</td>\n",
              "      <td>zayif</td>\n",
              "      <td>evet</td>\n",
              "    </tr>\n",
              "    <tr>\n",
              "      <th>4</th>\n",
              "      <td>yagmurlu</td>\n",
              "      <td>soguk</td>\n",
              "      <td>normal</td>\n",
              "      <td>zayif</td>\n",
              "      <td>evet</td>\n",
              "    </tr>\n",
              "    <tr>\n",
              "      <th>5</th>\n",
              "      <td>yagmurlu</td>\n",
              "      <td>soguk</td>\n",
              "      <td>normal</td>\n",
              "      <td>kuvvetli</td>\n",
              "      <td>hayır</td>\n",
              "    </tr>\n",
              "    <tr>\n",
              "      <th>6</th>\n",
              "      <td>bulutlu</td>\n",
              "      <td>soguk</td>\n",
              "      <td>normal</td>\n",
              "      <td>kuvvetli</td>\n",
              "      <td>evet</td>\n",
              "    </tr>\n",
              "    <tr>\n",
              "      <th>7</th>\n",
              "      <td>gunesli</td>\n",
              "      <td>ilik</td>\n",
              "      <td>yuksek</td>\n",
              "      <td>zayif</td>\n",
              "      <td>hayır</td>\n",
              "    </tr>\n",
              "    <tr>\n",
              "      <th>8</th>\n",
              "      <td>gunesli</td>\n",
              "      <td>soguk</td>\n",
              "      <td>normal</td>\n",
              "      <td>zayif</td>\n",
              "      <td>evet</td>\n",
              "    </tr>\n",
              "  </tbody>\n",
              "</table>\n",
              "</div>\n",
              "      <button class=\"colab-df-convert\" onclick=\"convertToInteractive('df-81affeb6-cc3b-4021-9bf3-ba34a99f577b')\"\n",
              "              title=\"Convert this dataframe to an interactive table.\"\n",
              "              style=\"display:none;\">\n",
              "        \n",
              "  <svg xmlns=\"http://www.w3.org/2000/svg\" height=\"24px\"viewBox=\"0 0 24 24\"\n",
              "       width=\"24px\">\n",
              "    <path d=\"M0 0h24v24H0V0z\" fill=\"none\"/>\n",
              "    <path d=\"M18.56 5.44l.94 2.06.94-2.06 2.06-.94-2.06-.94-.94-2.06-.94 2.06-2.06.94zm-11 1L8.5 8.5l.94-2.06 2.06-.94-2.06-.94L8.5 2.5l-.94 2.06-2.06.94zm10 10l.94 2.06.94-2.06 2.06-.94-2.06-.94-.94-2.06-.94 2.06-2.06.94z\"/><path d=\"M17.41 7.96l-1.37-1.37c-.4-.4-.92-.59-1.43-.59-.52 0-1.04.2-1.43.59L10.3 9.45l-7.72 7.72c-.78.78-.78 2.05 0 2.83L4 21.41c.39.39.9.59 1.41.59.51 0 1.02-.2 1.41-.59l7.78-7.78 2.81-2.81c.8-.78.8-2.07 0-2.86zM5.41 20L4 18.59l7.72-7.72 1.47 1.35L5.41 20z\"/>\n",
              "  </svg>\n",
              "      </button>\n",
              "      \n",
              "  <style>\n",
              "    .colab-df-container {\n",
              "      display:flex;\n",
              "      flex-wrap:wrap;\n",
              "      gap: 12px;\n",
              "    }\n",
              "\n",
              "    .colab-df-convert {\n",
              "      background-color: #E8F0FE;\n",
              "      border: none;\n",
              "      border-radius: 50%;\n",
              "      cursor: pointer;\n",
              "      display: none;\n",
              "      fill: #1967D2;\n",
              "      height: 32px;\n",
              "      padding: 0 0 0 0;\n",
              "      width: 32px;\n",
              "    }\n",
              "\n",
              "    .colab-df-convert:hover {\n",
              "      background-color: #E2EBFA;\n",
              "      box-shadow: 0px 1px 2px rgba(60, 64, 67, 0.3), 0px 1px 3px 1px rgba(60, 64, 67, 0.15);\n",
              "      fill: #174EA6;\n",
              "    }\n",
              "\n",
              "    [theme=dark] .colab-df-convert {\n",
              "      background-color: #3B4455;\n",
              "      fill: #D2E3FC;\n",
              "    }\n",
              "\n",
              "    [theme=dark] .colab-df-convert:hover {\n",
              "      background-color: #434B5C;\n",
              "      box-shadow: 0px 1px 3px 1px rgba(0, 0, 0, 0.15);\n",
              "      filter: drop-shadow(0px 1px 2px rgba(0, 0, 0, 0.3));\n",
              "      fill: #FFFFFF;\n",
              "    }\n",
              "  </style>\n",
              "\n",
              "      <script>\n",
              "        const buttonEl =\n",
              "          document.querySelector('#df-81affeb6-cc3b-4021-9bf3-ba34a99f577b button.colab-df-convert');\n",
              "        buttonEl.style.display =\n",
              "          google.colab.kernel.accessAllowed ? 'block' : 'none';\n",
              "\n",
              "        async function convertToInteractive(key) {\n",
              "          const element = document.querySelector('#df-81affeb6-cc3b-4021-9bf3-ba34a99f577b');\n",
              "          const dataTable =\n",
              "            await google.colab.kernel.invokeFunction('convertToInteractive',\n",
              "                                                     [key], {});\n",
              "          if (!dataTable) return;\n",
              "\n",
              "          const docLinkHtml = 'Like what you see? Visit the ' +\n",
              "            '<a target=\"_blank\" href=https://colab.research.google.com/notebooks/data_table.ipynb>data table notebook</a>'\n",
              "            + ' to learn more about interactive tables.';\n",
              "          element.innerHTML = '';\n",
              "          dataTable['output_type'] = 'display_data';\n",
              "          await google.colab.output.renderOutput(dataTable, element);\n",
              "          const docLink = document.createElement('div');\n",
              "          docLink.innerHTML = docLinkHtml;\n",
              "          element.appendChild(docLink);\n",
              "        }\n",
              "      </script>\n",
              "    </div>\n",
              "  </div>\n",
              "  "
            ]
          },
          "metadata": {},
          "execution_count": 5
        }
      ]
    },
    {
      "cell_type": "code",
      "source": [
        "le = LabelEncoder()\n",
        "balik_tutma[\"hava_durumu\"] = le.fit_transform(balik_tutma[\"hava_durumu\"])\n",
        "balik_tutma[\"sicaklik\"] = le.fit_transform(balik_tutma[\"sicaklik\"])\n",
        "balik_tutma[\"nem\"] = le.fit_transform(balik_tutma[\"nem\"])\n",
        "balik_tutma[\"ruzgar\"] = le.fit_transform(balik_tutma[\"ruzgar\"])\n",
        "balik_tutma[\"balik_tutma\"] = le.fit_transform(balik_tutma[\"balik_tutma\"])"
      ],
      "metadata": {
        "id": "Ws0SOIrVW-nm"
      },
      "execution_count": 6,
      "outputs": []
    },
    {
      "cell_type": "code",
      "source": [
        "balik_tutma.head(5)"
      ],
      "metadata": {
        "id": "btvJnRgVW-sP",
        "colab": {
          "base_uri": "https://localhost:8080/",
          "height": 206
        },
        "outputId": "e4108a16-6067-45c1-b75d-840abeb3f244"
      },
      "execution_count": 7,
      "outputs": [
        {
          "output_type": "execute_result",
          "data": {
            "text/plain": [
              "   hava_durumu  sicaklik  nem  ruzgar  balik_tutma\n",
              "0            1         1    1       1            1\n",
              "1            1         1    1       0            1\n",
              "2            0         1    1       1            0\n",
              "3            2         0    1       1            0\n",
              "4            2         2    0       1            0"
            ],
            "text/html": [
              "\n",
              "  <div id=\"df-84c0b425-bdcf-42a1-8312-236df041a903\">\n",
              "    <div class=\"colab-df-container\">\n",
              "      <div>\n",
              "<style scoped>\n",
              "    .dataframe tbody tr th:only-of-type {\n",
              "        vertical-align: middle;\n",
              "    }\n",
              "\n",
              "    .dataframe tbody tr th {\n",
              "        vertical-align: top;\n",
              "    }\n",
              "\n",
              "    .dataframe thead th {\n",
              "        text-align: right;\n",
              "    }\n",
              "</style>\n",
              "<table border=\"1\" class=\"dataframe\">\n",
              "  <thead>\n",
              "    <tr style=\"text-align: right;\">\n",
              "      <th></th>\n",
              "      <th>hava_durumu</th>\n",
              "      <th>sicaklik</th>\n",
              "      <th>nem</th>\n",
              "      <th>ruzgar</th>\n",
              "      <th>balik_tutma</th>\n",
              "    </tr>\n",
              "  </thead>\n",
              "  <tbody>\n",
              "    <tr>\n",
              "      <th>0</th>\n",
              "      <td>1</td>\n",
              "      <td>1</td>\n",
              "      <td>1</td>\n",
              "      <td>1</td>\n",
              "      <td>1</td>\n",
              "    </tr>\n",
              "    <tr>\n",
              "      <th>1</th>\n",
              "      <td>1</td>\n",
              "      <td>1</td>\n",
              "      <td>1</td>\n",
              "      <td>0</td>\n",
              "      <td>1</td>\n",
              "    </tr>\n",
              "    <tr>\n",
              "      <th>2</th>\n",
              "      <td>0</td>\n",
              "      <td>1</td>\n",
              "      <td>1</td>\n",
              "      <td>1</td>\n",
              "      <td>0</td>\n",
              "    </tr>\n",
              "    <tr>\n",
              "      <th>3</th>\n",
              "      <td>2</td>\n",
              "      <td>0</td>\n",
              "      <td>1</td>\n",
              "      <td>1</td>\n",
              "      <td>0</td>\n",
              "    </tr>\n",
              "    <tr>\n",
              "      <th>4</th>\n",
              "      <td>2</td>\n",
              "      <td>2</td>\n",
              "      <td>0</td>\n",
              "      <td>1</td>\n",
              "      <td>0</td>\n",
              "    </tr>\n",
              "  </tbody>\n",
              "</table>\n",
              "</div>\n",
              "      <button class=\"colab-df-convert\" onclick=\"convertToInteractive('df-84c0b425-bdcf-42a1-8312-236df041a903')\"\n",
              "              title=\"Convert this dataframe to an interactive table.\"\n",
              "              style=\"display:none;\">\n",
              "        \n",
              "  <svg xmlns=\"http://www.w3.org/2000/svg\" height=\"24px\"viewBox=\"0 0 24 24\"\n",
              "       width=\"24px\">\n",
              "    <path d=\"M0 0h24v24H0V0z\" fill=\"none\"/>\n",
              "    <path d=\"M18.56 5.44l.94 2.06.94-2.06 2.06-.94-2.06-.94-.94-2.06-.94 2.06-2.06.94zm-11 1L8.5 8.5l.94-2.06 2.06-.94-2.06-.94L8.5 2.5l-.94 2.06-2.06.94zm10 10l.94 2.06.94-2.06 2.06-.94-2.06-.94-.94-2.06-.94 2.06-2.06.94z\"/><path d=\"M17.41 7.96l-1.37-1.37c-.4-.4-.92-.59-1.43-.59-.52 0-1.04.2-1.43.59L10.3 9.45l-7.72 7.72c-.78.78-.78 2.05 0 2.83L4 21.41c.39.39.9.59 1.41.59.51 0 1.02-.2 1.41-.59l7.78-7.78 2.81-2.81c.8-.78.8-2.07 0-2.86zM5.41 20L4 18.59l7.72-7.72 1.47 1.35L5.41 20z\"/>\n",
              "  </svg>\n",
              "      </button>\n",
              "      \n",
              "  <style>\n",
              "    .colab-df-container {\n",
              "      display:flex;\n",
              "      flex-wrap:wrap;\n",
              "      gap: 12px;\n",
              "    }\n",
              "\n",
              "    .colab-df-convert {\n",
              "      background-color: #E8F0FE;\n",
              "      border: none;\n",
              "      border-radius: 50%;\n",
              "      cursor: pointer;\n",
              "      display: none;\n",
              "      fill: #1967D2;\n",
              "      height: 32px;\n",
              "      padding: 0 0 0 0;\n",
              "      width: 32px;\n",
              "    }\n",
              "\n",
              "    .colab-df-convert:hover {\n",
              "      background-color: #E2EBFA;\n",
              "      box-shadow: 0px 1px 2px rgba(60, 64, 67, 0.3), 0px 1px 3px 1px rgba(60, 64, 67, 0.15);\n",
              "      fill: #174EA6;\n",
              "    }\n",
              "\n",
              "    [theme=dark] .colab-df-convert {\n",
              "      background-color: #3B4455;\n",
              "      fill: #D2E3FC;\n",
              "    }\n",
              "\n",
              "    [theme=dark] .colab-df-convert:hover {\n",
              "      background-color: #434B5C;\n",
              "      box-shadow: 0px 1px 3px 1px rgba(0, 0, 0, 0.15);\n",
              "      filter: drop-shadow(0px 1px 2px rgba(0, 0, 0, 0.3));\n",
              "      fill: #FFFFFF;\n",
              "    }\n",
              "  </style>\n",
              "\n",
              "      <script>\n",
              "        const buttonEl =\n",
              "          document.querySelector('#df-84c0b425-bdcf-42a1-8312-236df041a903 button.colab-df-convert');\n",
              "        buttonEl.style.display =\n",
              "          google.colab.kernel.accessAllowed ? 'block' : 'none';\n",
              "\n",
              "        async function convertToInteractive(key) {\n",
              "          const element = document.querySelector('#df-84c0b425-bdcf-42a1-8312-236df041a903');\n",
              "          const dataTable =\n",
              "            await google.colab.kernel.invokeFunction('convertToInteractive',\n",
              "                                                     [key], {});\n",
              "          if (!dataTable) return;\n",
              "\n",
              "          const docLinkHtml = 'Like what you see? Visit the ' +\n",
              "            '<a target=\"_blank\" href=https://colab.research.google.com/notebooks/data_table.ipynb>data table notebook</a>'\n",
              "            + ' to learn more about interactive tables.';\n",
              "          element.innerHTML = '';\n",
              "          dataTable['output_type'] = 'display_data';\n",
              "          await google.colab.output.renderOutput(dataTable, element);\n",
              "          const docLink = document.createElement('div');\n",
              "          docLink.innerHTML = docLinkHtml;\n",
              "          element.appendChild(docLink);\n",
              "        }\n",
              "      </script>\n",
              "    </div>\n",
              "  </div>\n",
              "  "
            ]
          },
          "metadata": {},
          "execution_count": 7
        }
      ]
    },
    {
      "cell_type": "code",
      "source": [
        "\n",
        "x = balik_tutma.drop([\"balik_tutma\"],axis=1)\n",
        "y = balik_tutma[\"balik_tutma\"]"
      ],
      "metadata": {
        "id": "K7m9EHqOW-xJ"
      },
      "execution_count": 8,
      "outputs": []
    },
    {
      "cell_type": "code",
      "source": [
        "x_train,x_test,y_train,y_test = train_test_split(x,y, test_size=0.30)\n"
      ],
      "metadata": {
        "id": "M5s6-E9wW-0P"
      },
      "execution_count": 9,
      "outputs": []
    },
    {
      "cell_type": "code",
      "source": [
        "model = GaussianNB()\n",
        "model.fit(x_train,y_train)\n",
        "model_pred = model.predict(x_test)\n",
        "accuracy = accuracy_score(y_test,model_pred)\n",
        "accuracy"
      ],
      "metadata": {
        "id": "QwAOitVdW-3a",
        "colab": {
          "base_uri": "https://localhost:8080/"
        },
        "outputId": "537de8e3-49fd-45eb-f6f8-019429a4b79f"
      },
      "execution_count": 10,
      "outputs": [
        {
          "output_type": "execute_result",
          "data": {
            "text/plain": [
              "0.8"
            ]
          },
          "metadata": {},
          "execution_count": 10
        }
      ]
    },
    {
      "cell_type": "code",
      "source": [
        "print(model.predict([[1,0,0,1]]))\n",
        "print(model.predict([[1,1,0,1]]))\n",
        "print(model.predict([[1,0,1,1]]))"
      ],
      "metadata": {
        "id": "nXRS2rcIW-7h",
        "colab": {
          "base_uri": "https://localhost:8080/"
        },
        "outputId": "f76fc3bd-ae45-4414-f161-2e24c037574e"
      },
      "execution_count": 11,
      "outputs": [
        {
          "output_type": "stream",
          "name": "stdout",
          "text": [
            "[0]\n",
            "[0]\n",
            "[1]\n"
          ]
        },
        {
          "output_type": "stream",
          "name": "stderr",
          "text": [
            "/usr/local/lib/python3.10/dist-packages/sklearn/base.py:439: UserWarning: X does not have valid feature names, but GaussianNB was fitted with feature names\n",
            "  warnings.warn(\n",
            "/usr/local/lib/python3.10/dist-packages/sklearn/base.py:439: UserWarning: X does not have valid feature names, but GaussianNB was fitted with feature names\n",
            "  warnings.warn(\n",
            "/usr/local/lib/python3.10/dist-packages/sklearn/base.py:439: UserWarning: X does not have valid feature names, but GaussianNB was fitted with feature names\n",
            "  warnings.warn(\n"
          ]
        }
      ]
    },
    {
      "cell_type": "markdown",
      "source": [
        "MULTINOMIAL NAIVE BAYES"
      ],
      "metadata": {
        "id": "hfoIhCvVogm7"
      }
    },
    {
      "cell_type": "code",
      "source": [
        "from sklearn.datasets import fetch_20newsgroups\n",
        "data = fetch_20newsgroups()\n",
        "data.target_names"
      ],
      "metadata": {
        "id": "OmwWiGwNW-_R",
        "colab": {
          "base_uri": "https://localhost:8080/"
        },
        "outputId": "bf08dbbe-3614-4c5c-f9a2-12fd6cd13d0b"
      },
      "execution_count": 12,
      "outputs": [
        {
          "output_type": "execute_result",
          "data": {
            "text/plain": [
              "['alt.atheism',\n",
              " 'comp.graphics',\n",
              " 'comp.os.ms-windows.misc',\n",
              " 'comp.sys.ibm.pc.hardware',\n",
              " 'comp.sys.mac.hardware',\n",
              " 'comp.windows.x',\n",
              " 'misc.forsale',\n",
              " 'rec.autos',\n",
              " 'rec.motorcycles',\n",
              " 'rec.sport.baseball',\n",
              " 'rec.sport.hockey',\n",
              " 'sci.crypt',\n",
              " 'sci.electronics',\n",
              " 'sci.med',\n",
              " 'sci.space',\n",
              " 'soc.religion.christian',\n",
              " 'talk.politics.guns',\n",
              " 'talk.politics.mideast',\n",
              " 'talk.politics.misc',\n",
              " 'talk.religion.misc']"
            ]
          },
          "metadata": {},
          "execution_count": 12
        }
      ]
    },
    {
      "cell_type": "code",
      "source": [
        "categories = [\"misc.forsale\",'talk.religion.misc', 'soc.religion.christian', 'sci.space', 'comp.graphics']\n",
        "train = fetch_20newsgroups(subset=\"train\", categories=categories)\n",
        "test = fetch_20newsgroups(subset=\"test\", categories=categories)"
      ],
      "metadata": {
        "id": "oAwPNCrGpBl9"
      },
      "execution_count": 14,
      "outputs": []
    },
    {
      "cell_type": "code",
      "source": [
        "print(train.data[6])"
      ],
      "metadata": {
        "colab": {
          "base_uri": "https://localhost:8080/"
        },
        "id": "jjInuLjupBrR",
        "outputId": "97e29c80-5e20-477f-e4d3-ddb2a448a9fd"
      },
      "execution_count": 15,
      "outputs": [
        {
          "output_type": "stream",
          "name": "stdout",
          "text": [
            "From: bbates@pro-freedom.van.wa.us (Brandon Bates)\n",
            "Subject: WANTED: Video equipment (repost)\n",
            "Article-I.D.: pro-free.1993Apr21.155915.10932\n",
            "Organization: ProLine [pro-freedom] AppleVan (Apple UG of Vancouver, WA)\n",
            "Lines: 11\n",
            "\n",
            "\n",
            "     I am looking for a working docking deck (deck that goes on back of\n",
            "camera) for an old JVC GX-S700 Tube video camera.  Any format is\n",
            "acceptable.  Please send me a message if you even know anything about decks\n",
            "for the GX-S700.  Also interested in any video equipment for sale,\n",
            "professional or consumer.  Thank you. \n",
            "\n",
            "----\n",
            "bbates@pro-freedom.van.wa.us   -==-   Pro-Freedom BBS - (206) 694-3276\n",
            "\n",
            "==============================================================\n",
            "\n"
          ]
        }
      ]
    },
    {
      "cell_type": "code",
      "source": [
        "print(test.data[17])"
      ],
      "metadata": {
        "colab": {
          "base_uri": "https://localhost:8080/"
        },
        "id": "-2rIwqr6pBwr",
        "outputId": "f1b1c371-16db-4057-a45f-8221536333ec"
      },
      "execution_count": 17,
      "outputs": [
        {
          "output_type": "stream",
          "name": "stdout",
          "text": [
            "From: cab@col.hp.com (Chris Best)\n",
            "Subject: Re: Space Marketing -- Boycott\n",
            "Organization: your service\n",
            "Lines: 14\n",
            "NNTP-Posting-Host: hpctdkz.col.hp.com\n",
            "\n",
            "> According to the person I talked to, the proposed \"billboard\"\n",
            "> will be too small to resolve with the naked eye -- so small\n",
            "> and visually unimportant... \n",
            "> \n",
            ">   Anyway, he suggested that the\n",
            "> visual impact would approximate that of a jumbo jet\n",
            "> at 45k feet (12km) altitude.\n",
            "\n",
            "----------\n",
            "\n",
            "Are you sure he didn't tailor his comments according to what he guessed\n",
            "you wanted to hear?  In other words, LIE?  Think about it - what good \n",
            "would a billboard do for an advertiser if nobody can see it?  Who would\n",
            "advertise, telescope companies?  Pretty narrow audience here.\n",
            "\n"
          ]
        }
      ]
    },
    {
      "cell_type": "code",
      "source": [
        "from sklearn.feature_extraction.text import TfidfVectorizer\n",
        "from sklearn.naive_bayes import MultinomialNB\n",
        "from sklearn.pipeline import make_pipeline\n",
        "\n",
        "model = make_pipeline(TfidfVectorizer(), MultinomialNB())"
      ],
      "metadata": {
        "id": "84Ctb-SupB0b"
      },
      "execution_count": 18,
      "outputs": []
    },
    {
      "cell_type": "code",
      "source": [
        "model.fit(train.data, train.target)\n",
        "labels = model.predict(test.data)"
      ],
      "metadata": {
        "id": "j7M0q9t8pB3j"
      },
      "execution_count": 19,
      "outputs": []
    },
    {
      "cell_type": "code",
      "source": [
        "from sklearn.metrics import confusion_matrix\n",
        "cm = confusion_matrix(test.target,labels)\n",
        "sns.heatmap(cm,annot=True,\n",
        "            cmap='viridis',\n",
        "            fmt=\"d\",\n",
        "            cbar=False,\n",
        "            square=True,\n",
        "            xticklabels=train.target_names,\n",
        "            yticklabels=train.target_names);\n",
        "plt.xlabel(\"GERÇEK ETİKET\")\n",
        "plt.ylabel(\"TAHMİNİ ETİKET\");"
      ],
      "metadata": {
        "colab": {
          "base_uri": "https://localhost:8080/",
          "height": 581
        },
        "id": "RYCSph3NpB69",
        "outputId": "7c569f7d-86be-4ced-9ff0-24b43216b457"
      },
      "execution_count": 26,
      "outputs": [
        {
          "output_type": "display_data",
          "data": {
            "text/plain": [
              "<Figure size 640x480 with 1 Axes>"
            ],
            "image/png": "[encoded data removed]"
          },
          "metadata": {}
        }
      ]
    },
    {
      "cell_type": "markdown",
      "source": [
        "Buradaki en güzel şey, şimdi bu pipline için predict() yöntemini kullanarak herhangi bir dize \n",
        "için kategoriyi belirlemek için araçlara sahip olmamızdır. İşte tek bir dize için tahmini \n",
        "döndürecek hızlı bir yardımcı program işlevi aşağıdaki gibidir"
      ],
      "metadata": {
        "id": "JGT_x5OZtLW3"
      }
    },
    {
      "cell_type": "code",
      "source": [
        "def predict_category(s, train=train, model=model):\n",
        "  tahmin = model.predict([s])\n",
        "  return train.target_names[tahmin[0]]\n"
      ],
      "metadata": {
        "id": "tPV74B9otNFA"
      },
      "execution_count": 29,
      "outputs": []
    },
    {
      "cell_type": "code",
      "source": [
        "predict_category(\"I can not find CTDS\")"
      ],
      "metadata": {
        "colab": {
          "base_uri": "https://localhost:8080/",
          "height": 36
        },
        "id": "jIJfB-YXtNi7",
        "outputId": "0f2cba8b-b754-488d-da44-f0451ff4c687"
      },
      "execution_count": 30,
      "outputs": [
        {
          "output_type": "execute_result",
          "data": {
            "text/plain": [
              "'comp.graphics'"
            ],
            "application/vnd.google.colaboratory.intrinsic+json": {
              "type": "string"
            }
          },
          "metadata": {},
          "execution_count": 30
        }
      ]
    },
    {
      "cell_type": "code",
      "source": [
        "predict_category(\"discussing Islam and atheism\")"
      ],
      "metadata": {
        "colab": {
          "base_uri": "https://localhost:8080/",
          "height": 36
        },
        "id": "aAODGMUEtyg_",
        "outputId": "3f5ec3d1-e1d5-4e82-9c4d-af9ca28ae841"
      },
      "execution_count": 31,
      "outputs": [
        {
          "output_type": "execute_result",
          "data": {
            "text/plain": [
              "'soc.religion.christian'"
            ],
            "application/vnd.google.colaboratory.intrinsic+json": {
              "type": "string"
            }
          },
          "metadata": {},
          "execution_count": 31
        }
      ]
    },
    {
      "cell_type": "code",
      "source": [
        "predict_category(\"a harmonic of the Earth's gravitational field\")"
      ],
      "metadata": {
        "colab": {
          "base_uri": "https://localhost:8080/",
          "height": 36
        },
        "id": "DaViH8_ytyny",
        "outputId": "e4dd440a-f0b5-42b4-9117-4344ccae8a2c"
      },
      "execution_count": 32,
      "outputs": [
        {
          "output_type": "execute_result",
          "data": {
            "text/plain": [
              "'sci.space'"
            ],
            "application/vnd.google.colaboratory.intrinsic+json": {
              "type": "string"
            }
          },
          "metadata": {},
          "execution_count": 32
        }
      ]
    },
    {
      "cell_type": "code",
      "source": [
        "predict_category(\"I do not think the 550 sold very well\")"
      ],
      "metadata": {
        "colab": {
          "base_uri": "https://localhost:8080/",
          "height": 36
        },
        "id": "qAq6UPwPtyqw",
        "outputId": "1f5e6269-7b20-4ddc-ff1e-c31a5b4d4ba7"
      },
      "execution_count": 33,
      "outputs": [
        {
          "output_type": "execute_result",
          "data": {
            "text/plain": [
              "'soc.religion.christian'"
            ],
            "application/vnd.google.colaboratory.intrinsic+json": {
              "type": "string"
            }
          },
          "metadata": {},
          "execution_count": 33
        }
      ]
    },
    {
      "cell_type": "code",
      "source": [
        "predict_category(\"Eyes do not lie\")"
      ],
      "metadata": {
        "colab": {
          "base_uri": "https://localhost:8080/",
          "height": 36
        },
        "id": "EmoSQQRctyuD",
        "outputId": "921bcff2-2625-4a46-dd5d-57f3a9bc10d5"
      },
      "execution_count": 34,
      "outputs": [
        {
          "output_type": "execute_result",
          "data": {
            "text/plain": [
              "'soc.religion.christian'"
            ],
            "application/vnd.google.colaboratory.intrinsic+json": {
              "type": "string"
            }
          },
          "metadata": {},
          "execution_count": 34
        }
      ]
    },
    {
      "cell_type": "markdown",
      "source": [
        "Bunun, dizedeki her kelimenin (ağırlıklı) frekansı için basit bir olasılık modelinden daha \n",
        "karmaşık bir şey olmadığını unutmayalım; bununla birlikte, sonuç çarpıcıdır. Çok naive bir \n",
        "algoritma bile, dikkatli bir şekilde kullanıldığında ve büyük bir yüksek boyutlu veri seti \n",
        "üzerinde eğitildiğinde şaşırtıcı derecede etkili olabilir"
      ],
      "metadata": {
        "id": "1uwEPZhJuVB-"
      }
    }
  ]
}